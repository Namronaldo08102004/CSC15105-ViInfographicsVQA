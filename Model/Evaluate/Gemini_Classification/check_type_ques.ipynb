{
 "cells": [
  {
   "cell_type": "code",
   "execution_count": null,
   "id": "2bb5aec5",
   "metadata": {},
   "outputs": [],
   "source": [
    "import os\n",
    "from google import genai\n",
    "from tqdm.auto import tqdm\n",
    "from dotenv import load_dotenv\n",
    "from time import sleep\\\n",
    "    \n",
    "load_dotenv()"
   ]
  },
  {
   "cell_type": "code",
   "execution_count": null,
   "id": "27850012",
   "metadata": {},
   "outputs": [],
   "source": [
    "implementer = \"Nam\"\n",
    "GEMINI_API_KEY = os.getenv(\"GEMINI_API_KEY\")\n",
    "client = genai.Client(api_key = GEMINI_API_KEY)\n",
    "model = \"gemini-2.0-flash\""
   ]
  },
  {
   "cell_type": "code",
   "execution_count": null,
   "id": "1b29a6b9",
   "metadata": {},
   "outputs": [],
   "source": [
    "def build_prompt(ques_list):\n",
    "    instructions = \"\"\"\n",
    "    Bạn sẽ nhận được tối đa 10 câu hỏi. Hãy phân loại từng câu hỏi là \"text\" hoặc là \"non-text\".\n",
    "    \n",
    "    **Định nghĩa**:\n",
    "    - \"text\": bao gồm các câu hỏi dựa trên các yếu tố trích xuất từ văn bản, liên quan đến các số liệu, từ ngữ, hoặc bất kỳ hình thức văn bản nào.\n",
    "    - \"non-text\": bao gồm các câu hỏi không dựa trên các yếu tố văn bản, chẳng hạn như các câu hỏi dựa trên hình ảnh, vật thể, màu sắc, hình dạng, v.v.\n",
    "    \n",
    "    Trả lời đầu ra là một danh sách gồm đúng N dòng, với mỗi dòng chỉ là một từ: \"text\" hoặc \"non-text\", tương ứng với từng câu hỏi theo thứ tự.\n",
    "    \n",
    "    Dưới đây là các câu hỏi cần phân loại:\n",
    "    \"\"\".strip()\n",
    "    \n",
    "    formatted_questions = \"\\n\".join(f\"{i}. {q}\" for i, q in enumerate(ques_list, 1))\n",
    "\n",
    "    ending = \"\\n\\nHãy trả về danh sách 1 từ duy nhất cho mỗi dòng: \\\"text\\\" hoặc \\\"non-text\\\".\"\n",
    "\n",
    "    full_prompt = f\"{instructions}\\n{formatted_questions}{ending}\"\n",
    "    return full_prompt"
   ]
  },
  {
   "cell_type": "code",
   "execution_count": null,
   "id": "b1a5ba21",
   "metadata": {},
   "outputs": [],
   "source": [
    "def prep_ques(file_path: str):\n",
    "    ques = []\n",
    "    with open(file_path, \"r\", encoding=\"utf-8\") as f:\n",
    "        for line in f:\n",
    "            parts = line.strip().split(\" ||| \")\n",
    "            if len(parts) != 2:\n",
    "                raise\n",
    "            ques.append((parts[0], parts[1]))\n",
    "    return ques"
   ]
  },
  {
   "cell_type": "code",
   "execution_count": null,
   "id": "e5d23075",
   "metadata": {},
   "outputs": [],
   "source": [
    "batch_size = 10\n",
    "store_file = f\"{implementer}_result.txt\"\n",
    "ques = prep_ques(f\"{implementer}_ques.txt\")\n",
    "\n",
    "\n",
    "start_index = 0\n",
    "if os.path.isfile(\"index.txt\"):\n",
    "    with open(f\"index.txt\", \"r\", encoding=\"utf-8\") as f:\n",
    "        start_index = int(f.read().strip())\n",
    "print(f\"Starting from index {start_index}\")\n",
    "\n",
    "\n",
    "api_error = False\n",
    "batch_ques, batch_typ = [], []\n",
    "with tqdm(total = len(ques), dynamic_ncols=True) as pbar:\n",
    "    try:\n",
    "        for idx in range(len(ques)):  \n",
    "            if idx < start_index:\n",
    "                pbar.update(1)\n",
    "                continue\n",
    "            batch_ques.append(ques[idx][0])\n",
    "            batch_typ.append(ques[idx][1])\n",
    "            \n",
    "            if len(batch_ques) == batch_size or idx == len(ques) - 1:\n",
    "                prompt = build_prompt(batch_ques)\n",
    "                cnt = 0\n",
    "                while True:\n",
    "                    try:\n",
    "                        response = client.models.generate_content(\n",
    "                            model=\"gemini-2.0-flash\", \n",
    "                            contents=prompt,\n",
    "                        ).text.strip().split('\\n')\n",
    "                        break\n",
    "                        \n",
    "                    except Exception as e:\n",
    "                        if \"429\" in str(e):\n",
    "                            if cnt > 8:\n",
    "                                api_error = True\n",
    "                                break\n",
    "                            cnt += 1\n",
    "                            print(f\"Re-trying in 10s\")\n",
    "                            sleep(10)\n",
    "                if api_error:\n",
    "                    raise Exception(\"API Error: 429 Too Many Requests\")\n",
    "                \n",
    "                with open(store_file, \"a\", encoding=\"utf-8\") as f:\n",
    "                    for i in range(len(batch_ques)):\n",
    "                        f.write(f\"{batch_ques[i]} ||| {batch_typ[i]} ||| {response[i]}\\n\")\n",
    "                with open(f\"index.txt\", \"w\", encoding=\"utf-8\") as f:\n",
    "                    f.write(f\"{idx + 1}\")\n",
    "                \n",
    "                pbar.update(len(batch_ques))\n",
    "                batch_ques.clear()\n",
    "                batch_typ.clear()\n",
    "                \n",
    "    except KeyboardInterrupt as k:\n",
    "        print(f\"Interrupted\")\n",
    "    except Exception as e:\n",
    "        if api_error:\n",
    "            print(f\"API Error: 429 Too Many Requests\")\n",
    "        else:\n",
    "            print(f\"An error occurred: {e}\")\n",
    "    finally:\n",
    "        print(f\"Done\") "
   ]
  },
  {
   "cell_type": "code",
   "execution_count": 2,
   "id": "dc1d9eb2",
   "metadata": {},
   "outputs": [
    {
     "data": {
      "text/plain": [
       "'93.21%'"
      ]
     },
     "execution_count": 2,
     "metadata": {},
     "output_type": "execute_result"
    }
   ],
   "source": [
    "def check_accu(listFiles: list[str]):\n",
    "    total, right = 0, 0                \n",
    "    for file in listFiles:\n",
    "        with open(file, \"r\", encoding = \"utf-8\") as f:\n",
    "            for line in f:\n",
    "                parts = line.strip().split(\" ||| \")\n",
    "                if len(parts) != 3:\n",
    "                    raise\n",
    "                total += 1\n",
    "                if parts[1] == parts[2]:\n",
    "                    right += 1\n",
    "    \n",
    "    return right / total\n",
    "\n",
    "listFiles = [\"Kiet_result.txt\", \"Minh_result.txt\", \"Nam_result.txt\", \"Quang_result.txt\", \"Thien_result.txt\"]\n",
    "f\"{check_accu(listFiles):.2%}\""
   ]
  }
 ],
 "metadata": {
  "kernelspec": {
   "display_name": "Python 3",
   "language": "python",
   "name": "python3"
  },
  "language_info": {
   "codemirror_mode": {
    "name": "ipython",
    "version": 3
   },
   "file_extension": ".py",
   "mimetype": "text/x-python",
   "name": "python",
   "nbconvert_exporter": "python",
   "pygments_lexer": "ipython3",
   "version": "3.10.11"
  }
 },
 "nbformat": 4,
 "nbformat_minor": 5
}
